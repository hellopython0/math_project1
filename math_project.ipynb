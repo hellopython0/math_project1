import cmath
import matplotlib.pyplot as plt
import numpy as np

x1, y1 = map(int,input().split())
x2, y2 = map(int,input().split())
x3, y3 = map(int,input().split())

flag = True

a = 0
b = 0
c = 0

for i in range(-500,500):
  if(flag == False):
    break;
  for j in range(-500,500):
    if(flag == False):
      break;
    for k in range(-500,500):
      if(i * x1 * x1 + j * x1 + k == y1):
        if(i * x2 * x2 + j * x2 + k == y2):
          if(i * x3 * x3 + j * x3 + k == y3):
            a = i;
            b = j;
            c = k;
            flag = False
            break;

if(a == 0):
  print("존재하지 않는 2차함수입니다.")


if(a == 1 or a == -1):
  if(b == 0):
    if(c == 0):
      print("y = x²")
    else:
      print(f"y = x²{c}")
  else:
    if(c == 0):
      print(f"y = x²{b}x")
    else:
      print(f"y = x²{b}x {c}")
else:
  if(b == 0):
    if(c == 0):
      print(f"y = {a}x²")
    else:
      print(f"y = {a}x²{c}")
  else:
    if(c == 0):
      print(f"y = {a}x²{b}x")
    else:
      print(f"y = {a}x²{b}x {c}")

nums = []

for i in range(-10,11):
  nums.append(a * i * i + b * i + c)

plt.figure(figsize = (7,5))
plt.plot(np.arange(-10,11),nums)
plt.xticks(np.arange(-10,11),np.arange(-10,11,1))
plt.grid(True)
plt.show()
